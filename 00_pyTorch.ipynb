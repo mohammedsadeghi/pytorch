{
  "cells": [
    {
      "cell_type": "markdown",
      "metadata": {
        "id": "view-in-github",
        "colab_type": "text"
      },
      "source": [
        "<a href=\"https://colab.research.google.com/github/mohammedsadeghi/pytorch/blob/main/00_pyTorch.ipynb\" target=\"_parent\"><img src=\"https://colab.research.google.com/assets/colab-badge.svg\" alt=\"Open In Colab\"/></a>"
      ]
    },
    {
      "cell_type": "code",
      "source": [
        "import torch\n",
        "import pandas as pd\n",
        "import numpy as np\n",
        "import matplotlib.pyplot as plt\n"
      ],
      "metadata": {
        "id": "sq3dsSQu_cKU"
      },
      "execution_count": null,
      "outputs": []
    },
    {
      "cell_type": "code",
      "source": [
        "ones= torch.ones([2,4],dtype=torch.float64)\n",
        "ones\n",
        "dtype_int=torch.tensor([[1, 1, 1, 1],\n",
        "        [1, 1, 1, 1]], dtype=torch.int32)\n",
        "\n",
        "sum=ones * dtype_int\n",
        "sum"
      ],
      "metadata": {
        "id": "Ub3xeyoZEWpR",
        "colab": {
          "base_uri": "https://localhost:8080/"
        },
        "outputId": "f20dfbd1-a96d-42b1-93c9-d5c3f793b7d6"
      },
      "execution_count": null,
      "outputs": [
        {
          "output_type": "execute_result",
          "data": {
            "text/plain": [
              "tensor([[1., 1., 1., 1.],\n",
              "        [1., 1., 1., 1.]], dtype=torch.float64)"
            ]
          },
          "metadata": {},
          "execution_count": 2
        }
      ]
    },
    {
      "cell_type": "code",
      "source": [
        "some_tensor=torch.rand([3,4])\n",
        "# print(some_tensor.shape,some_tensor.dtype,some_tensor.device,some_tensor-10,some_tensor)\n",
        "# torch.sum(some_tensor)\n",
        "some_other_tensor=torch.rand([4,3])\n",
        "\n",
        "print(some_other_tensor,some_tensor,torch.matmul(some_tensor,some_other_tensor ))\n"
      ],
      "metadata": {
        "colab": {
          "base_uri": "https://localhost:8080/"
        },
        "id": "me77ddf1NT61",
        "outputId": "2595dae4-e1b0-4afa-cf44-15c6516399fe"
      },
      "execution_count": null,
      "outputs": [
        {
          "output_type": "stream",
          "name": "stdout",
          "text": [
            "tensor([[0.6158, 0.4442, 0.1264],\n",
            "        [0.2505, 0.2314, 0.3399],\n",
            "        [0.8876, 0.6740, 0.8092],\n",
            "        [0.3198, 0.2870, 0.5052]]) tensor([[0.0911, 0.2127, 0.4124, 0.3741],\n",
            "        [0.7839, 0.4256, 0.6239, 0.5371],\n",
            "        [0.2196, 0.1074, 0.5927, 0.0343]]) tensor([[0.5951, 0.4750, 0.6065],\n",
            "        [1.3149, 1.0213, 1.0199],\n",
            "        [0.6992, 0.5317, 0.5612]])\n"
          ]
        }
      ]
    }
  ],
  "metadata": {
    "colab": {
      "provenance": [],
      "include_colab_link": true
    },
    "kernelspec": {
      "display_name": "Python 3",
      "name": "python3"
    },
    "gpuClass": "standard"
  },
  "nbformat": 4,
  "nbformat_minor": 0
}